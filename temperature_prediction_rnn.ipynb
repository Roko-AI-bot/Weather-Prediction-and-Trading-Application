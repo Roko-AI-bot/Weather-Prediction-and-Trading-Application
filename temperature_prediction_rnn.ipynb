{
  "cells": [
    {
      "cell_type": "markdown",
      "source": [
        "# Maximum Temperature Prediction"
      ],
      "metadata": {
        "id": "XSchKOz8PHzR"
      },
      "id": "XSchKOz8PHzR"
    },
    {
      "cell_type": "markdown",
      "source": [
        "## Imports"
      ],
      "metadata": {
        "id": "mTgAF7GAPRGh"
      },
      "id": "mTgAF7GAPRGh"
    },
    {
      "cell_type": "code",
      "execution_count": 1,
      "id": "06905eeb-329b-4baf-8c8c-877248296a39",
      "metadata": {
        "id": "06905eeb-329b-4baf-8c8c-877248296a39"
      },
      "outputs": [],
      "source": [
        "import pandas as pd\n",
        "import numpy as np\n",
        "from sklearn.preprocessing import MinMaxScaler\n",
        "from tensorflow.keras.models import Sequential\n",
        "from tensorflow.keras.layers import LSTM, Dense, Dropout\n",
        "import matplotlib.pyplot as plt"
      ]
    },
    {
      "cell_type": "markdown",
      "source": [
        "## Reading the files"
      ],
      "metadata": {
        "id": "qGt6DdA1PUPL"
      },
      "id": "qGt6DdA1PUPL"
    },
    {
      "cell_type": "code",
      "execution_count": 2,
      "id": "8c257efa",
      "metadata": {
        "colab": {
          "base_uri": "https://localhost:8080/"
        },
        "id": "8c257efa",
        "outputId": "e9dadba9-7dc7-4e8c-e85e-b203c670a8e2"
      },
      "outputs": [
        {
          "output_type": "stream",
          "name": "stdout",
          "text": [
            "           STATION                         NAME        DATE  PRCP  SNWD  TMAX  \\\n",
            "19104  USW00094728  NY CITY CENTRAL PARK, NY US  1998-01-01   0.0   NaN  29.0   \n",
            "19105  USW00094728  NY CITY CENTRAL PARK, NY US  1998-01-02   0.0   NaN  51.0   \n",
            "19106  USW00094728  NY CITY CENTRAL PARK, NY US  1998-01-03   0.0   NaN  60.0   \n",
            "19107  USW00094728  NY CITY CENTRAL PARK, NY US  1998-01-04   0.0   NaN  62.0   \n",
            "19108  USW00094728  NY CITY CENTRAL PARK, NY US  1998-01-05   0.0   NaN  50.0   \n",
            "\n",
            "       TMIN  \n",
            "19104  14.0  \n",
            "19105  29.0  \n",
            "19106  46.0  \n",
            "19107  44.0  \n",
            "19108  42.0  \n"
          ]
        }
      ],
      "source": [
        "weather = pd.read_csv(\"daily_weather.csv\")\n",
        "# Training data, choose a name [\"NY CITY CENTRAL PARK, NY US\", \"AUSTIN BERGSTROM INTERNATIONAL AIRPORT, TX US\",\"MIAMI INTERNATIONAL AIRPORT, FL US\", \"CHICAGO MIDWAY AIRPORT, IL US\"]\n",
        "train_df = weather.loc[weather['NAME'] == \"NY CITY CENTRAL PARK, NY US\"]\n",
        "# Testing data, choose a file [\"weather_nyc.csv\", \"weather_aus.csv\", \"weather_mia.csv\", \"weather_chi.csv\"]\n",
        "test_df = pd.read_csv(\"weather_nyc.csv\")\n",
        "# Combine test and training data for preprocessing\n",
        "weather_df = pd.concat([train_df, test_df], axis=0)\n",
        "print(weather_df.head())"
      ]
    },
    {
      "cell_type": "markdown",
      "source": [
        "## Pre-processing"
      ],
      "metadata": {
        "id": "Lc5RTChXPTaS"
      },
      "id": "Lc5RTChXPTaS"
    },
    {
      "cell_type": "markdown",
      "source": [
        "Check for missing values."
      ],
      "metadata": {
        "id": "F3wuZzskR7mZ"
      },
      "id": "F3wuZzskR7mZ"
    },
    {
      "cell_type": "code",
      "execution_count": 3,
      "id": "6b92c56c-0763-4693-a18d-ff371eedcee2",
      "metadata": {
        "colab": {
          "base_uri": "https://localhost:8080/"
        },
        "id": "6b92c56c-0763-4693-a18d-ff371eedcee2",
        "outputId": "0d457884-b6bf-449f-e60a-f811f0eac70f"
      },
      "outputs": [
        {
          "output_type": "stream",
          "name": "stdout",
          "text": [
            "STATION    0.002193\n",
            "NAME       0.002193\n",
            "DATE       0.000000\n",
            "PRCP       0.000209\n",
            "SNWD       0.049488\n",
            "TMAX       0.000104\n",
            "TMIN       0.000104\n",
            "dtype: float64\n"
          ]
        }
      ],
      "source": [
        "print(weather_df.isnull().mean())"
      ]
    },
    {
      "cell_type": "markdown",
      "source": [
        "Remove and fill missing values."
      ],
      "metadata": {
        "id": "_m4a21IAScBU"
      },
      "id": "_m4a21IAScBU"
    },
    {
      "cell_type": "code",
      "execution_count": 4,
      "id": "68245ebe",
      "metadata": {
        "colab": {
          "base_uri": "https://localhost:8080/"
        },
        "id": "68245ebe",
        "outputId": "d8f7e096-918e-4165-e82f-1f8b24c9d36b"
      },
      "outputs": [
        {
          "output_type": "stream",
          "name": "stdout",
          "text": [
            "STATION    0.0\n",
            "NAME       0.0\n",
            "DATE       0.0\n",
            "PRCP       0.0\n",
            "SNWD       0.0\n",
            "TMAX       0.0\n",
            "TMIN       0.0\n",
            "dtype: float64\n"
          ]
        }
      ],
      "source": [
        "# Remove any columns which have less than 60% non-missing values\n",
        "weather_df = weather_df.dropna(thresh=train_df.shape[0]*0.6, axis=1)\n",
        "# Fill missing values with prev value and if it is still empty fill with zero\n",
        "weather_df = weather_df.replace('', np.NaN)\n",
        "weather_df = weather_df.ffill()\n",
        "weather_df = weather_df.fillna(0)\n",
        "print(weather_df.isnull().mean())"
      ]
    },
    {
      "cell_type": "markdown",
      "source": [
        "Normalize the data."
      ],
      "metadata": {
        "id": "KG_n2GiWSM0t"
      },
      "id": "KG_n2GiWSM0t"
    },
    {
      "cell_type": "code",
      "source": [
        "# Choose the features for the model\n",
        "features = weather_df[['TMAX', 'TMIN', 'PRCP', 'SNWD']]\n",
        "scaler = MinMaxScaler(feature_range=(0, 1))\n",
        "scaled_features = scaler.fit_transform(features)"
      ],
      "metadata": {
        "id": "BxUVsuIzQhWr"
      },
      "id": "BxUVsuIzQhWr",
      "execution_count": 5,
      "outputs": []
    },
    {
      "cell_type": "markdown",
      "source": [
        "Create labels, and divide data into training and testing sets."
      ],
      "metadata": {
        "id": "vqWu_41hTF_C"
      },
      "id": "vqWu_41hTF_C"
    },
    {
      "cell_type": "code",
      "execution_count": 6,
      "id": "f4a750d2-f0b2-478b-aa2f-c08af5e8980d",
      "metadata": {
        "id": "f4a750d2-f0b2-478b-aa2f-c08af5e8980d",
        "colab": {
          "base_uri": "https://localhost:8080/"
        },
        "outputId": "ccd4c704-122d-41d5-ec40-d451cfb701ff"
      },
      "outputs": [
        {
          "output_type": "stream",
          "name": "stdout",
          "text": [
            "[[[0.41021319 0.42811059 0.14614256 0.        ]\n",
            "  [0.57241099 0.51811059 0.         0.        ]\n",
            "  [0.4923011  0.46728706 0.         0.        ]\n",
            "  [0.36570769 0.46834588 0.11077711 0.        ]\n",
            "  [0.40131209 0.47469882 0.16174498 0.        ]\n",
            "  [0.45372969 0.50646353 0.02392369 0.        ]\n",
            "  [0.45372969 0.40164    0.         0.        ]]\n",
            "\n",
            " [[0.57241099 0.51811059 0.         0.        ]\n",
            "  [0.4923011  0.46728706 0.         0.        ]\n",
            "  [0.36570769 0.46834588 0.11077711 0.        ]\n",
            "  [0.40131209 0.47469882 0.16174498 0.        ]\n",
            "  [0.45372969 0.50646353 0.02392369 0.        ]\n",
            "  [0.45372969 0.40164    0.         0.        ]\n",
            "  [0.35680659 0.46199294 0.1612249  0.        ]]\n",
            "\n",
            " [[0.4923011  0.46728706 0.         0.        ]\n",
            "  [0.36570769 0.46834588 0.11077711 0.        ]\n",
            "  [0.40131209 0.47469882 0.16174498 0.        ]\n",
            "  [0.45372969 0.50646353 0.02392369 0.        ]\n",
            "  [0.45372969 0.40164    0.         0.        ]\n",
            "  [0.35680659 0.46199294 0.1612249  0.        ]\n",
            "  [0.41812527 0.43234588 0.10089557 0.        ]]\n",
            "\n",
            " [[0.36570769 0.46834588 0.11077711 0.        ]\n",
            "  [0.40131209 0.47469882 0.16174498 0.        ]\n",
            "  [0.45372969 0.50646353 0.02392369 0.        ]\n",
            "  [0.45372969 0.40164    0.         0.        ]\n",
            "  [0.35680659 0.46199294 0.1612249  0.        ]\n",
            "  [0.41812527 0.43234588 0.10089557 0.        ]\n",
            "  [0.39735604 0.40905176 0.         0.        ]]\n",
            "\n",
            " [[0.40131209 0.47469882 0.16174498 0.        ]\n",
            "  [0.45372969 0.50646353 0.02392369 0.        ]\n",
            "  [0.45372969 0.40164    0.         0.        ]\n",
            "  [0.35680659 0.46199294 0.1612249  0.        ]\n",
            "  [0.41812527 0.43234588 0.10089557 0.        ]\n",
            "  [0.39735604 0.40905176 0.         0.        ]\n",
            "  [0.54570769 0.44293412 0.         0.        ]]\n",
            "\n",
            " [[0.45372969 0.50646353 0.02392369 0.        ]\n",
            "  [0.45372969 0.40164    0.         0.        ]\n",
            "  [0.35680659 0.46199294 0.1612249  0.        ]\n",
            "  [0.41812527 0.43234588 0.10089557 0.        ]\n",
            "  [0.39735604 0.40905176 0.         0.        ]\n",
            "  [0.54570769 0.44293412 0.         0.        ]\n",
            "  [0.51405934 0.43658118 0.         0.        ]]\n",
            "\n",
            " [[0.45372969 0.40164    0.         0.        ]\n",
            "  [0.35680659 0.46199294 0.1612249  0.        ]\n",
            "  [0.41812527 0.43234588 0.10089557 0.        ]\n",
            "  [0.39735604 0.40905176 0.         0.        ]\n",
            "  [0.54570769 0.44293412 0.         0.        ]\n",
            "  [0.51405934 0.43658118 0.         0.        ]\n",
            "  [0.62087258 0.47046353 0.         0.        ]]\n",
            "\n",
            " [[0.35680659 0.46199294 0.1612249  0.        ]\n",
            "  [0.41812527 0.43234588 0.10089557 0.        ]\n",
            "  [0.39735604 0.40905176 0.         0.        ]\n",
            "  [0.54570769 0.44293412 0.         0.        ]\n",
            "  [0.51405934 0.43658118 0.         0.        ]\n",
            "  [0.62087258 0.47046353 0.         0.        ]\n",
            "  [0.62186154 0.55834588 0.         0.        ]]\n",
            "\n",
            " [[0.41812527 0.43234588 0.10089557 0.        ]\n",
            "  [0.39735604 0.40905176 0.         0.        ]\n",
            "  [0.54570769 0.44293412 0.         0.        ]\n",
            "  [0.51405934 0.43658118 0.         0.        ]\n",
            "  [0.62087258 0.47046353 0.         0.        ]\n",
            "  [0.62186154 0.55834588 0.         0.        ]\n",
            "  [0.48636703 0.48528702 0.         0.        ]]\n",
            "\n",
            " [[0.39735604 0.40905176 0.         0.        ]\n",
            "  [0.54570769 0.44293412 0.         0.        ]\n",
            "  [0.51405934 0.43658118 0.         0.        ]\n",
            "  [0.62087258 0.47046353 0.         0.        ]\n",
            "  [0.62186154 0.55834588 0.         0.        ]\n",
            "  [0.48636703 0.48528702 0.         0.        ]\n",
            "  [0.5101033  0.53928706 0.00364056 0.        ]]\n",
            "\n",
            " [[0.54570769 0.44293412 0.         0.        ]\n",
            "  [0.51405934 0.43658118 0.         0.        ]\n",
            "  [0.62087258 0.47046353 0.         0.        ]\n",
            "  [0.62186154 0.55834588 0.         0.        ]\n",
            "  [0.48636703 0.48528702 0.         0.        ]\n",
            "  [0.5101033  0.53928706 0.00364056 0.        ]\n",
            "  [0.38153189 0.43764    0.         0.        ]]\n",
            "\n",
            " [[0.51405934 0.43658118 0.         0.        ]\n",
            "  [0.62087258 0.47046353 0.         0.        ]\n",
            "  [0.62186154 0.55834588 0.         0.        ]\n",
            "  [0.48636703 0.48528702 0.         0.        ]\n",
            "  [0.5101033  0.53928706 0.00364056 0.        ]\n",
            "  [0.38153189 0.43764    0.         0.        ]\n",
            "  [0.34889447 0.39528706 0.0026004  0.00119822]]\n",
            "\n",
            " [[0.62087258 0.47046353 0.         0.        ]\n",
            "  [0.62186154 0.55834588 0.         0.        ]\n",
            "  [0.48636703 0.48528702 0.         0.        ]\n",
            "  [0.5101033  0.53928706 0.00364056 0.        ]\n",
            "  [0.38153189 0.43764    0.         0.        ]\n",
            "  [0.34889447 0.39528706 0.0026004  0.00119822]\n",
            "  [0.42405934 0.41011059 0.00676104 0.        ]]\n",
            "\n",
            " [[0.62186154 0.55834588 0.         0.        ]\n",
            "  [0.48636703 0.48528702 0.         0.        ]\n",
            "  [0.5101033  0.53928706 0.00364056 0.        ]\n",
            "  [0.38153189 0.43764    0.         0.        ]\n",
            "  [0.34889447 0.39528706 0.0026004  0.00119822]\n",
            "  [0.42405934 0.41011059 0.00676104 0.        ]\n",
            "  [0.30933407 0.30952235 0.00676104 0.        ]]]\n",
            "[0.35680659 0.41812527 0.39735604 0.54570769 0.51405934 0.62087258\n",
            " 0.62186154 0.48636703 0.5101033  0.38153189 0.34889447 0.42405934\n",
            " 0.30933407 0.30933407]\n"
          ]
        }
      ],
      "source": [
        "# Create sequences and labels\n",
        "seq_length = 7\n",
        "def create_sequences(data, seq_length):\n",
        "    X, y = [], []\n",
        "    for i in range(len(data) - seq_length):\n",
        "        X.append(data[i:i + seq_length])\n",
        "        y.append(data[i + seq_length, 0])  # Predicting only maximum temperature\n",
        "    return np.array(X), np.array(y)\n",
        "\n",
        "# Divide data into training and testing data\n",
        "X_train, y_train = create_sequences(scaled_features[:len(train_df)], seq_length)\n",
        "X_test, y_test = create_sequences(scaled_features[len(train_df):], seq_length)\n",
        "print(X_test)\n",
        "print(y_test)"
      ]
    },
    {
      "cell_type": "markdown",
      "source": [
        "## Model"
      ],
      "metadata": {
        "id": "VWffZGsoTw5i"
      },
      "id": "VWffZGsoTw5i"
    },
    {
      "cell_type": "markdown",
      "source": [
        "LSTM model using Keras."
      ],
      "metadata": {
        "id": "L0ySMRugT0gk"
      },
      "id": "L0ySMRugT0gk"
    },
    {
      "cell_type": "code",
      "execution_count": 7,
      "id": "f9649889",
      "metadata": {
        "id": "f9649889",
        "colab": {
          "base_uri": "https://localhost:8080/"
        },
        "outputId": "e8736d6d-ee4a-4c1c-ca7f-dd42282320f7"
      },
      "outputs": [
        {
          "output_type": "stream",
          "name": "stdout",
          "text": [
            "Model: \"sequential\"\n",
            "_________________________________________________________________\n",
            " Layer (type)                Output Shape              Param #   \n",
            "=================================================================\n",
            " lstm (LSTM)                 (None, 7, 64)             17664     \n",
            "                                                                 \n",
            " dropout (Dropout)           (None, 7, 64)             0         \n",
            "                                                                 \n",
            " lstm_1 (LSTM)               (None, 7, 32)             12416     \n",
            "                                                                 \n",
            " dropout_1 (Dropout)         (None, 7, 32)             0         \n",
            "                                                                 \n",
            " lstm_2 (LSTM)               (None, 32)                8320      \n",
            "                                                                 \n",
            " dropout_2 (Dropout)         (None, 32)                0         \n",
            "                                                                 \n",
            " dense (Dense)               (None, 1)                 33        \n",
            "                                                                 \n",
            "=================================================================\n",
            "Total params: 38433 (150.13 KB)\n",
            "Trainable params: 38433 (150.13 KB)\n",
            "Non-trainable params: 0 (0.00 Byte)\n",
            "_________________________________________________________________\n",
            "None\n"
          ]
        }
      ],
      "source": [
        "model = Sequential([\n",
        "    LSTM(units=64, return_sequences=True, input_shape=(seq_length, X_train.shape[2])),\n",
        "    Dropout(0.2),\n",
        "    LSTM(units=32, return_sequences=True),\n",
        "    Dropout(0.2),\n",
        "    LSTM(units=32),\n",
        "    Dropout(0.2),\n",
        "    Dense(units=1)\n",
        "])\n",
        "\n",
        "model.compile(optimizer='adam', loss='mean_squared_error')\n",
        "print(model.summary())"
      ]
    },
    {
      "cell_type": "markdown",
      "source": [
        "Train the model."
      ],
      "metadata": {
        "id": "6O1qx8RrTzjD"
      },
      "id": "6O1qx8RrTzjD"
    },
    {
      "cell_type": "code",
      "execution_count": 8,
      "id": "7a8f8770",
      "metadata": {
        "colab": {
          "base_uri": "https://localhost:8080/"
        },
        "id": "7a8f8770",
        "outputId": "df24774a-1dd2-45b9-8deb-ef8ba0875afe"
      },
      "outputs": [
        {
          "output_type": "stream",
          "name": "stdout",
          "text": [
            "Epoch 1/50\n",
            "135/135 [==============================] - 11s 38ms/step - loss: 0.0361 - val_loss: 0.0092\n",
            "Epoch 2/50\n",
            "135/135 [==============================] - 3s 20ms/step - loss: 0.0143 - val_loss: 0.0089\n",
            "Epoch 3/50\n",
            "135/135 [==============================] - 3s 20ms/step - loss: 0.0138 - val_loss: 0.0089\n",
            "Epoch 4/50\n",
            "135/135 [==============================] - 3s 19ms/step - loss: 0.0131 - val_loss: 0.0087\n",
            "Epoch 5/50\n",
            "135/135 [==============================] - 3s 24ms/step - loss: 0.0128 - val_loss: 0.0086\n",
            "Epoch 6/50\n",
            "135/135 [==============================] - 3s 22ms/step - loss: 0.0123 - val_loss: 0.0084\n",
            "Epoch 7/50\n",
            "135/135 [==============================] - 3s 20ms/step - loss: 0.0118 - val_loss: 0.0082\n",
            "Epoch 8/50\n",
            "135/135 [==============================] - 3s 20ms/step - loss: 0.0112 - val_loss: 0.0081\n",
            "Epoch 9/50\n",
            "135/135 [==============================] - 3s 20ms/step - loss: 0.0112 - val_loss: 0.0082\n",
            "Epoch 10/50\n",
            "135/135 [==============================] - 4s 28ms/step - loss: 0.0105 - val_loss: 0.0077\n",
            "Epoch 11/50\n",
            "135/135 [==============================] - 3s 19ms/step - loss: 0.0101 - val_loss: 0.0075\n",
            "Epoch 12/50\n",
            "135/135 [==============================] - 3s 19ms/step - loss: 0.0093 - val_loss: 0.0068\n",
            "Epoch 13/50\n",
            "135/135 [==============================] - 3s 20ms/step - loss: 0.0089 - val_loss: 0.0064\n",
            "Epoch 14/50\n",
            "135/135 [==============================] - 3s 24ms/step - loss: 0.0084 - val_loss: 0.0059\n",
            "Epoch 15/50\n",
            "135/135 [==============================] - 3s 25ms/step - loss: 0.0082 - val_loss: 0.0059\n",
            "Epoch 16/50\n",
            "135/135 [==============================] - 3s 21ms/step - loss: 0.0078 - val_loss: 0.0056\n",
            "Epoch 17/50\n",
            "135/135 [==============================] - 3s 21ms/step - loss: 0.0076 - val_loss: 0.0056\n",
            "Epoch 18/50\n",
            "135/135 [==============================] - 3s 23ms/step - loss: 0.0073 - val_loss: 0.0059\n",
            "Epoch 19/50\n",
            "135/135 [==============================] - 4s 27ms/step - loss: 0.0073 - val_loss: 0.0053\n",
            "Epoch 20/50\n",
            "135/135 [==============================] - 3s 21ms/step - loss: 0.0072 - val_loss: 0.0053\n",
            "Epoch 21/50\n",
            "135/135 [==============================] - 3s 21ms/step - loss: 0.0068 - val_loss: 0.0053\n",
            "Epoch 22/50\n",
            "135/135 [==============================] - 3s 20ms/step - loss: 0.0068 - val_loss: 0.0053\n",
            "Epoch 23/50\n",
            "135/135 [==============================] - 4s 32ms/step - loss: 0.0069 - val_loss: 0.0053\n",
            "Epoch 24/50\n",
            "135/135 [==============================] - 3s 20ms/step - loss: 0.0066 - val_loss: 0.0057\n",
            "Epoch 25/50\n",
            "135/135 [==============================] - 3s 20ms/step - loss: 0.0065 - val_loss: 0.0052\n",
            "Epoch 26/50\n",
            "135/135 [==============================] - 3s 20ms/step - loss: 0.0064 - val_loss: 0.0052\n",
            "Epoch 27/50\n",
            "135/135 [==============================] - 4s 28ms/step - loss: 0.0066 - val_loss: 0.0052\n",
            "Epoch 28/50\n",
            "135/135 [==============================] - 3s 21ms/step - loss: 0.0065 - val_loss: 0.0051\n",
            "Epoch 29/50\n",
            "135/135 [==============================] - 3s 21ms/step - loss: 0.0063 - val_loss: 0.0053\n",
            "Epoch 30/50\n",
            "135/135 [==============================] - 3s 19ms/step - loss: 0.0064 - val_loss: 0.0053\n",
            "Epoch 31/50\n",
            "135/135 [==============================] - 3s 22ms/step - loss: 0.0062 - val_loss: 0.0058\n",
            "Epoch 32/50\n",
            "135/135 [==============================] - 3s 26ms/step - loss: 0.0062 - val_loss: 0.0052\n",
            "Epoch 33/50\n",
            "135/135 [==============================] - 3s 21ms/step - loss: 0.0062 - val_loss: 0.0053\n",
            "Epoch 34/50\n",
            "135/135 [==============================] - 3s 23ms/step - loss: 0.0062 - val_loss: 0.0051\n",
            "Epoch 35/50\n",
            "135/135 [==============================] - 3s 23ms/step - loss: 0.0062 - val_loss: 0.0055\n",
            "Epoch 36/50\n",
            "135/135 [==============================] - 3s 26ms/step - loss: 0.0061 - val_loss: 0.0055\n",
            "Epoch 37/50\n",
            "135/135 [==============================] - 3s 20ms/step - loss: 0.0061 - val_loss: 0.0051\n",
            "Epoch 38/50\n",
            "135/135 [==============================] - 3s 19ms/step - loss: 0.0060 - val_loss: 0.0052\n",
            "Epoch 39/50\n",
            "135/135 [==============================] - 3s 20ms/step - loss: 0.0061 - val_loss: 0.0052\n",
            "Epoch 40/50\n",
            "135/135 [==============================] - 4s 27ms/step - loss: 0.0061 - val_loss: 0.0050\n",
            "Epoch 41/50\n",
            "135/135 [==============================] - 3s 20ms/step - loss: 0.0060 - val_loss: 0.0052\n",
            "Epoch 42/50\n",
            "135/135 [==============================] - 3s 19ms/step - loss: 0.0059 - val_loss: 0.0052\n",
            "Epoch 43/50\n",
            "135/135 [==============================] - 3s 19ms/step - loss: 0.0060 - val_loss: 0.0050\n",
            "Epoch 44/50\n",
            "135/135 [==============================] - 3s 19ms/step - loss: 0.0060 - val_loss: 0.0051\n",
            "Epoch 45/50\n",
            "135/135 [==============================] - 4s 29ms/step - loss: 0.0059 - val_loss: 0.0051\n",
            "Epoch 46/50\n",
            "135/135 [==============================] - 3s 20ms/step - loss: 0.0059 - val_loss: 0.0051\n",
            "Epoch 47/50\n",
            "135/135 [==============================] - 3s 20ms/step - loss: 0.0060 - val_loss: 0.0054\n",
            "Epoch 48/50\n",
            "135/135 [==============================] - 3s 20ms/step - loss: 0.0060 - val_loss: 0.0050\n",
            "Epoch 49/50\n",
            "135/135 [==============================] - 3s 26ms/step - loss: 0.0059 - val_loss: 0.0051\n",
            "Epoch 50/50\n",
            "135/135 [==============================] - 3s 23ms/step - loss: 0.0060 - val_loss: 0.0051\n"
          ]
        }
      ],
      "source": [
        "history = model.fit(X_train, y_train, epochs=50, batch_size=64, validation_split=0.1)"
      ]
    },
    {
      "cell_type": "markdown",
      "source": [
        "## Model Evaluation"
      ],
      "metadata": {
        "id": "9jPJM3A6ULzO"
      },
      "id": "9jPJM3A6ULzO"
    },
    {
      "cell_type": "code",
      "execution_count": 9,
      "id": "129dea90",
      "metadata": {
        "colab": {
          "base_uri": "https://localhost:8080/"
        },
        "id": "129dea90",
        "outputId": "39d603e8-ed41-467a-8f30-658fae3faf1f"
      },
      "outputs": [
        {
          "output_type": "stream",
          "name": "stdout",
          "text": [
            "1/1 [==============================] - 0s 31ms/step - loss: 0.0082\n",
            "Test Loss: 0.008237254805862904\n",
            "1/1 [==============================] - 1s 1s/step\n",
            "[49.40334445 48.99273238 47.68536121 47.71420345 56.96470055 53.33320075\n",
            " 62.072321   64.4544487  54.59889102 61.04262996 48.64912054 48.93795788\n",
            " 51.56686777 40.31913975]\n"
          ]
        }
      ],
      "source": [
        "loss = model.evaluate(X_test, y_test)\n",
        "print(f'Test Loss: {loss}')\n",
        "\n",
        "predictions = model.predict(X_test)\n",
        "# Denormalize the predictions and actual values\n",
        "predictions = scaler.inverse_transform(np.concatenate((predictions, np.zeros((len(predictions), 3))), axis=1))[:, 0]\n",
        "actual = scaler.inverse_transform(np.concatenate((y_test.reshape(-1, 1), np.zeros((len(y_test), 3))), axis=1))[:, 0]\n",
        "print(predictions)"
      ]
    },
    {
      "cell_type": "markdown",
      "source": [
        "Graph of predictions vs actual."
      ],
      "metadata": {
        "id": "OmCkbqCFUfHS"
      },
      "id": "OmCkbqCFUfHS"
    },
    {
      "cell_type": "code",
      "execution_count": 10,
      "id": "82880319-0b42-4a91-b37f-b4cd3b7c79c5",
      "metadata": {
        "id": "82880319-0b42-4a91-b37f-b4cd3b7c79c5",
        "colab": {
          "base_uri": "https://localhost:8080/",
          "height": 524
        },
        "outputId": "d61ba6ae-9d65-4d67-da38-493b709ce5c6"
      },
      "outputs": [
        {
          "output_type": "display_data",
          "data": {
            "text/plain": [
              "<Figure size 640x480 with 1 Axes>"
            ],
            "image/png": "[encoded data removed]"
          },
          "metadata": {}
        }
      ],
      "source": [
        "plt.plot(test_df['DATE'][seq_length:], actual, label='Actual', color='blue')\n",
        "plt.plot(test_df['DATE'][seq_length:], predictions, label='Prediction', color='red')\n",
        "plt.title('Actual vs. Predicted Maximum Temperature')\n",
        "plt.xlabel('Date')\n",
        "plt.ylabel('Maximum Temperature (°F)')\n",
        "plt.xticks(rotation=45)\n",
        "plt.legend()\n",
        "plt.show()"
      ]
    }
  ],
  "metadata": {
    "kernelspec": {
      "display_name": "Python 3 (ipykernel)",
      "language": "python",
      "name": "python3"
    },
    "language_info": {
      "codemirror_mode": {
        "name": "ipython",
        "version": 3
      },
      "file_extension": ".py",
      "mimetype": "text/x-python",
      "name": "python",
      "nbconvert_exporter": "python",
      "pygments_lexer": "ipython3",
      "version": "3.10.11"
    },
    "colab": {
      "provenance": []
    }
  },
  "nbformat": 4,
  "nbformat_minor": 5
}